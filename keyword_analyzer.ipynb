{
  "nbformat": 4,
  "nbformat_minor": 0,
  "metadata": {
    "colab": {
      "name": "keyword_analyzer.ipynb",
      "provenance": [],
      "collapsed_sections": [],
      "authorship_tag": "ABX9TyN645hIVp/WWhj866gWscTl"
    },
    "kernelspec": {
      "name": "python3",
      "display_name": "Python 3"
    }
  },
  "cells": [
    {
      "cell_type": "code",
      "metadata": {
        "id": "kB1qPZeLfRhd",
        "colab_type": "code",
        "colab": {}
      },
      "source": [
        "# Import required Libraries\n",
        "import numpy as np\n",
        "import pandas as pd"
      ],
      "execution_count": 0,
      "outputs": []
    },
    {
      "cell_type": "code",
      "metadata": {
        "id": "4BZjH8X2uApT",
        "colab_type": "code",
        "outputId": "c7dff140-6bcb-46d8-dacc-90826935388e",
        "colab": {
          "resources": {
            "http://localhost:8080/nbextensions/google.colab/files.js": {
              "data": "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",
              "ok": true,
              "headers": [
                [
                  "content-type",
                  "application/javascript"
                ]
              ],
              "status": 200,
              "status_text": ""
            }
          },
          "base_uri": "https://localhost:8080/",
          "height": 74
        }
      },
      "source": [
        "#For uplading files to google colaboratory\n",
        "from google.colab import files\n",
        "uploaded =files.upload()\n",
        "rawdata = pd.read_excel('organic_keywords_dataset.xlsx',encoding = 'unicode_escape')\n"
      ],
      "execution_count": 125,
      "outputs": [
        {
          "output_type": "display_data",
          "data": {
            "text/html": [
              "\n",
              "     <input type=\"file\" id=\"files-23aa32f8-cfb6-4737-9f67-4664b7261800\" name=\"files[]\" multiple disabled />\n",
              "     <output id=\"result-23aa32f8-cfb6-4737-9f67-4664b7261800\">\n",
              "      Upload widget is only available when the cell has been executed in the\n",
              "      current browser session. Please rerun this cell to enable.\n",
              "      </output>\n",
              "      <script src=\"/nbextensions/google.colab/files.js\"></script> "
            ],
            "text/plain": [
              "<IPython.core.display.HTML object>"
            ]
          },
          "metadata": {
            "tags": []
          }
        },
        {
          "output_type": "stream",
          "text": [
            "Saving organic_keywords_dataset.xlsx to organic_keywords_dataset (4).xlsx\n"
          ],
          "name": "stdout"
        }
      ]
    },
    {
      "cell_type": "code",
      "metadata": {
        "id": "CMjjQn5_XTwZ",
        "colab_type": "code",
        "outputId": "2ebd2c36-fda2-4fe9-b492-43c507569764",
        "colab": {
          "base_uri": "https://localhost:8080/",
          "height": 442
        }
      },
      "source": [
        "#To see some elements of the dataset\n",
        "rawdata[:7]"
      ],
      "execution_count": 126,
      "outputs": [
        {
          "output_type": "execute_result",
          "data": {
            "text/html": [
              "<div>\n",
              "<style scoped>\n",
              "    .dataframe tbody tr th:only-of-type {\n",
              "        vertical-align: middle;\n",
              "    }\n",
              "\n",
              "    .dataframe tbody tr th {\n",
              "        vertical-align: top;\n",
              "    }\n",
              "\n",
              "    .dataframe thead th {\n",
              "        text-align: right;\n",
              "    }\n",
              "</style>\n",
              "<table border=\"1\" class=\"dataframe\">\n",
              "  <thead>\n",
              "    <tr style=\"text-align: right;\">\n",
              "      <th></th>\n",
              "      <th>Keyword</th>\n",
              "      <th>Position</th>\n",
              "      <th>Previous position</th>\n",
              "      <th>Search Volume</th>\n",
              "      <th>Keyword Difficulty</th>\n",
              "      <th>CPC</th>\n",
              "      <th>URL</th>\n",
              "      <th>Traffic</th>\n",
              "      <th>Traffic (%)</th>\n",
              "      <th>Traffic Cost</th>\n",
              "      <th>Competition</th>\n",
              "      <th>Number of Results</th>\n",
              "      <th>Trends</th>\n",
              "      <th>Timestamp</th>\n",
              "      <th>Volume Ratio</th>\n",
              "      <th>Result</th>\n",
              "      <th>Rank</th>\n",
              "    </tr>\n",
              "  </thead>\n",
              "  <tbody>\n",
              "    <tr>\n",
              "      <th>0</th>\n",
              "      <td>shower pan</td>\n",
              "      <td>3</td>\n",
              "      <td>3</td>\n",
              "      <td>33100</td>\n",
              "      <td>77.34</td>\n",
              "      <td>1.00</td>\n",
              "      <td>https://bestbath.com/products/showers/pans/</td>\n",
              "      <td>2979</td>\n",
              "      <td>14.03</td>\n",
              "      <td>2979</td>\n",
              "      <td>1.0</td>\n",
              "      <td>165000000</td>\n",
              "      <td>[67,67,67,82,82,67,82,67,67,100,82,82]</td>\n",
              "      <td>1562800468</td>\n",
              "      <td>NaN</td>\n",
              "      <td>NaN</td>\n",
              "      <td>NaN</td>\n",
              "    </tr>\n",
              "    <tr>\n",
              "      <th>1</th>\n",
              "      <td>best bath</td>\n",
              "      <td>1</td>\n",
              "      <td>1</td>\n",
              "      <td>3600</td>\n",
              "      <td>78.95</td>\n",
              "      <td>1.85</td>\n",
              "      <td>https://bestbath.com/</td>\n",
              "      <td>2880</td>\n",
              "      <td>13.56</td>\n",
              "      <td>5328</td>\n",
              "      <td>1.0</td>\n",
              "      <td>1280000000</td>\n",
              "      <td>[100,82,82,82,82,82,82,82,82,100,100,100]</td>\n",
              "      <td>1562796435</td>\n",
              "      <td>NaN</td>\n",
              "      <td>NaN</td>\n",
              "      <td>NaN</td>\n",
              "    </tr>\n",
              "    <tr>\n",
              "      <th>2</th>\n",
              "      <td>shower base</td>\n",
              "      <td>5</td>\n",
              "      <td>5</td>\n",
              "      <td>22200</td>\n",
              "      <td>76.92</td>\n",
              "      <td>0.93</td>\n",
              "      <td>https://bestbath.com/products/showers/pans/</td>\n",
              "      <td>1110</td>\n",
              "      <td>5.22</td>\n",
              "      <td>1032</td>\n",
              "      <td>1.0</td>\n",
              "      <td>469000000</td>\n",
              "      <td>[82,67,67,67,82,67,82,67,67,100,82,82]</td>\n",
              "      <td>1562805830</td>\n",
              "      <td>NaN</td>\n",
              "      <td>NaN</td>\n",
              "      <td>NaN</td>\n",
              "    </tr>\n",
              "    <tr>\n",
              "      <th>3</th>\n",
              "      <td>bathtub surround kits</td>\n",
              "      <td>1</td>\n",
              "      <td>1</td>\n",
              "      <td>1600</td>\n",
              "      <td>81.20</td>\n",
              "      <td>0.98</td>\n",
              "      <td>https://bestbath.com/products/tub-surrounds/</td>\n",
              "      <td>752</td>\n",
              "      <td>3.54</td>\n",
              "      <td>736</td>\n",
              "      <td>1.0</td>\n",
              "      <td>1220000</td>\n",
              "      <td>[67,54,42,42,100,100,79,67,54,67,67,79]</td>\n",
              "      <td>1560963111</td>\n",
              "      <td>NaN</td>\n",
              "      <td>NaN</td>\n",
              "      <td>NaN</td>\n",
              "    </tr>\n",
              "    <tr>\n",
              "      <th>4</th>\n",
              "      <td>tub shower combo</td>\n",
              "      <td>5</td>\n",
              "      <td>5</td>\n",
              "      <td>14800</td>\n",
              "      <td>84.20</td>\n",
              "      <td>0.89</td>\n",
              "      <td>https://bestbath.com/products/tubs/shower-tub-...</td>\n",
              "      <td>740</td>\n",
              "      <td>3.48</td>\n",
              "      <td>658</td>\n",
              "      <td>1.0</td>\n",
              "      <td>56300000</td>\n",
              "      <td>[67,55,67,82,82,82,82,82,67,100,100,100]</td>\n",
              "      <td>1562805217</td>\n",
              "      <td>NaN</td>\n",
              "      <td>NaN</td>\n",
              "      <td>NaN</td>\n",
              "    </tr>\n",
              "    <tr>\n",
              "      <th>5</th>\n",
              "      <td>handicap showers</td>\n",
              "      <td>3</td>\n",
              "      <td>3</td>\n",
              "      <td>5400</td>\n",
              "      <td>63.13</td>\n",
              "      <td>2.00</td>\n",
              "      <td>https://bestbath.com/products/showers/</td>\n",
              "      <td>486</td>\n",
              "      <td>2.28</td>\n",
              "      <td>972</td>\n",
              "      <td>1.0</td>\n",
              "      <td>83900000</td>\n",
              "      <td>[82,67,67,67,82,67,67,67,67,100,82,82]</td>\n",
              "      <td>1562801752</td>\n",
              "      <td>NaN</td>\n",
              "      <td>NaN</td>\n",
              "      <td>NaN</td>\n",
              "    </tr>\n",
              "    <tr>\n",
              "      <th>6</th>\n",
              "      <td>tub surround</td>\n",
              "      <td>7</td>\n",
              "      <td>7</td>\n",
              "      <td>12100</td>\n",
              "      <td>83.42</td>\n",
              "      <td>0.99</td>\n",
              "      <td>https://bestbath.com/products/tub-surrounds/</td>\n",
              "      <td>484</td>\n",
              "      <td>2.28</td>\n",
              "      <td>479</td>\n",
              "      <td>1.0</td>\n",
              "      <td>45900000</td>\n",
              "      <td>[82,67,67,67,67,67,67,67,67,100,82,100]</td>\n",
              "      <td>1562806450</td>\n",
              "      <td>NaN</td>\n",
              "      <td>NaN</td>\n",
              "      <td>NaN</td>\n",
              "    </tr>\n",
              "  </tbody>\n",
              "</table>\n",
              "</div>"
            ],
            "text/plain": [
              "                 Keyword  Position  ...  Result  Rank\n",
              "0             shower pan         3  ...     NaN   NaN\n",
              "1              best bath         1  ...     NaN   NaN\n",
              "2            shower base         5  ...     NaN   NaN\n",
              "3  bathtub surround kits         1  ...     NaN   NaN\n",
              "4       tub shower combo         5  ...     NaN   NaN\n",
              "5       handicap showers         3  ...     NaN   NaN\n",
              "6           tub surround         7  ...     NaN   NaN\n",
              "\n",
              "[7 rows x 17 columns]"
            ]
          },
          "metadata": {
            "tags": []
          },
          "execution_count": 126
        }
      ]
    },
    {
      "cell_type": "code",
      "metadata": {
        "id": "V3lMqmIWZ47y",
        "colab_type": "code",
        "colab": {}
      },
      "source": [
        "# Define Features for training and testing of Ml models.\n",
        "features = [\"Traffic\",\n",
        "            \"CPC\", \n",
        "            \"Number of Results\",\n",
        "            \"Search Volume\"]\n",
        "# Define Target (What should be predicted).\n",
        "target = \"Position\"\n",
        "#we can change both the features and target according to requirement. "
      ],
      "execution_count": 0,
      "outputs": []
    },
    {
      "cell_type": "code",
      "metadata": {
        "id": "d2rtHOyQcECG",
        "colab_type": "code",
        "outputId": "fc191b25-bb9e-4c7b-e4b8-07dbd3822ea9",
        "colab": {
          "base_uri": "https://localhost:8080/",
          "height": 50
        }
      },
      "source": [
        "# Split the datset in ratio 0f 4:1(80%:20%) for train and test data\n",
        "train = rawdata.sample(frac=0.8)\n",
        "test = rawdata.loc[~rawdata.index.isin(train.index)]\n",
        "print (\"Train rows: {}\".format(len(train.index)))\n",
        "print (\"Test rows: {}\".format(len(test.index)))"
      ],
      "execution_count": 128,
      "outputs": [
        {
          "output_type": "stream",
          "text": [
            "Train rows: 6067\n",
            "Test rows: 1517\n"
          ],
          "name": "stdout"
        }
      ]
    },
    {
      "cell_type": "code",
      "metadata": {
        "id": "BAMKRtWxib8c",
        "colab_type": "code",
        "colab": {}
      },
      "source": [
        "# Import different Ml Alorithms to see differences between their predictions\n",
        "from sklearn.linear_model import LinearRegression\n",
        "from sklearn.tree import DecisionTreeClassifier\n",
        "from sklearn.ensemble import RandomForestClassifier\n",
        "from sklearn.svm import SVC\n",
        "from sklearn.metrics import mean_squared_error, r2_score\n",
        "from sklearn import preprocessing\n",
        "from sklearn.ensemble import RandomForestRegressor\n",
        "from sklearn.pipeline import make_pipeline\n",
        "from sklearn.model_selection import GridSearchCV"
      ],
      "execution_count": 0,
      "outputs": []
    },
    {
      "cell_type": "code",
      "metadata": {
        "id": "cv8hbZuVis4T",
        "colab_type": "code",
        "colab": {}
      },
      "source": [
        "# The Function to print readable scores of the models\n",
        "def print_scores(scores):\n",
        "    r = 1\n",
        "    for score in scores:\n",
        "        print(\"Run: {} - Score: {}\".format(r, score))\n",
        "        r += 1"
      ],
      "execution_count": 0,
      "outputs": []
    },
    {
      "cell_type": "code",
      "metadata": {
        "id": "Wk1llcgoi0vn",
        "colab_type": "code",
        "colab": {}
      },
      "source": [
        "# Define Linear Regression Model \n",
        "LinearRegressionModel =LinearRegression()\n"
      ],
      "execution_count": 0,
      "outputs": []
    },
    {
      "cell_type": "code",
      "metadata": {
        "id": "OcP9fOyujIlN",
        "colab_type": "code",
        "outputId": "4fbfba3f-ee97-43f0-b25c-04562db60c78",
        "colab": {
          "base_uri": "https://localhost:8080/",
          "height": 34
        }
      },
      "source": [
        "# Train the Model\n",
        "LinearRegressionModel.fit(train[features], train[target])"
      ],
      "execution_count": 132,
      "outputs": [
        {
          "output_type": "execute_result",
          "data": {
            "text/plain": [
              "LinearRegression(copy_X=True, fit_intercept=True, n_jobs=None, normalize=False)"
            ]
          },
          "metadata": {
            "tags": []
          },
          "execution_count": 132
        }
      ]
    },
    {
      "cell_type": "code",
      "metadata": {
        "id": "Q1q5ys7-kWYm",
        "colab_type": "code",
        "outputId": "cd3b9d84-9f55-4fad-dcbe-f38e5c45fd79",
        "colab": {
          "base_uri": "https://localhost:8080/",
          "height": 34
        }
      },
      "source": [
        "# Test how the model performes against the Training data we split above...\n",
        "prediction_score = LinearRegressionModel.score(test[features], test[target])\n",
        "print(\"The score of prediction for LinearRegressionModel is: {}\".format(prediction_score))"
      ],
      "execution_count": 133,
      "outputs": [
        {
          "output_type": "stream",
          "text": [
            "The score of prediction for LinearRegressionModel is: 0.007124013640240734\n"
          ],
          "name": "stdout"
        }
      ]
    },
    {
      "cell_type": "code",
      "metadata": {
        "id": "ja0N1k1ykdv9",
        "colab_type": "code",
        "colab": {}
      },
      "source": [
        "# Define the Descision Classifier Model\n",
        "DecisionTreeClassifierModel = DecisionTreeClassifier()"
      ],
      "execution_count": 0,
      "outputs": []
    },
    {
      "cell_type": "code",
      "metadata": {
        "id": "g4LF384v4bN2",
        "colab_type": "code",
        "outputId": "cf1aab0d-520b-4f4e-abdc-16b2f92454c4",
        "colab": {
          "base_uri": "https://localhost:8080/",
          "height": 118
        }
      },
      "source": [
        "#Train the Model\n",
        "DecisionTreeClassifierModel.fit(train[features], train[target])"
      ],
      "execution_count": 135,
      "outputs": [
        {
          "output_type": "execute_result",
          "data": {
            "text/plain": [
              "DecisionTreeClassifier(ccp_alpha=0.0, class_weight=None, criterion='gini',\n",
              "                       max_depth=None, max_features=None, max_leaf_nodes=None,\n",
              "                       min_impurity_decrease=0.0, min_impurity_split=None,\n",
              "                       min_samples_leaf=1, min_samples_split=2,\n",
              "                       min_weight_fraction_leaf=0.0, presort='deprecated',\n",
              "                       random_state=None, splitter='best')"
            ]
          },
          "metadata": {
            "tags": []
          },
          "execution_count": 135
        }
      ]
    },
    {
      "cell_type": "code",
      "metadata": {
        "id": "jyGfmoTf4fGa",
        "colab_type": "code",
        "outputId": "dd641a68-e381-4fe3-a5bf-d1343480729b",
        "colab": {
          "base_uri": "https://localhost:8080/",
          "height": 34
        }
      },
      "source": [
        "prediction_score = DecisionTreeClassifierModel.score(test[features], test[target])\n",
        "print(\"The score of prediction for DecisionTreeClassifierModel is: {}\".format(prediction_score))"
      ],
      "execution_count": 147,
      "outputs": [
        {
          "output_type": "stream",
          "text": [
            "The score of prediction for DecisionTreeClassifierModel is: 0.06328279499011207\n"
          ],
          "name": "stdout"
        }
      ]
    },
    {
      "cell_type": "code",
      "metadata": {
        "id": "bk-yFo2uk1qx",
        "colab_type": "code",
        "outputId": "382faa8b-1c41-489c-d4b2-a9411c99fa7f",
        "colab": {
          "base_uri": "https://localhost:8080/",
          "height": 34
        }
      },
      "source": [
        "# Define RandaomForest Regressor model\n",
        "\n",
        "pipeline = make_pipeline(preprocessing.StandardScaler(), \n",
        "                         RandomForestRegressor(n_estimators=200))\n",
        " \n",
        "# Declare hyperparameters to tune\n",
        "hyperparameters = { 'randomforestregressor__max_features' : ['auto', 'sqrt', 'log2'],\n",
        "                  'randomforestregressor__max_depth': [5, 3]}\n",
        " \n",
        "# Tune model using cross-validation pipeline\n",
        "RandomForestRegressorModel = GridSearchCV(pipeline, hyperparameters, cv=5)\n",
        " \n",
        "RandomForestRegressorModel.fit(train[features], train[target])\n",
        "prediction_score = RandomForestRegressorModel.score(test[features], test[target])\n",
        "print(\"The score of prediction for RandomForestRegressorModel is: {}\".format(prediction_score))"
      ],
      "execution_count": 148,
      "outputs": [
        {
          "output_type": "stream",
          "text": [
            "The score of prediction for RandomForestRegressorModel is: 0.3104056658231027\n"
          ],
          "name": "stdout"
        }
      ]
    },
    {
      "cell_type": "code",
      "metadata": {
        "id": "EDnG8UVPlbUX",
        "colab_type": "code",
        "outputId": "b3a41525-3ce3-4ba9-c1fd-785bc8c13428",
        "colab": {
          "base_uri": "https://localhost:8080/",
          "height": 67
        }
      },
      "source": [
        "# Print Predictions for all created Models\n",
        "# Give Sample values to parameters for predictions\n",
        "sample = [[1032,0.93,469000000,22200]]  # needs to be same count as features\n",
        "\n",
        "rawdata_to_predict = pd.DataFrame(data = sample, index=[0], columns=features)\n",
        "result = LinearRegressionModel.predict(rawdata_to_predict)\n",
        "print(\"LinearRegressionModel predicted:       {}\".format(int(result[0])))\n",
        "result = DecisionTreeClassifierModel.predict(rawdata_to_predict)\n",
        "print(\"DecisionTreeClassifierModel predicted: {}\".format(int(result[0])))\n",
        "result = RandomForestRegressorModel.predict(rawdata_to_predict)\n",
        "print(\"RandomForestRegressorModel predicted:  {}\".format(int(result[0])))"
      ],
      "execution_count": 149,
      "outputs": [
        {
          "output_type": "stream",
          "text": [
            "LinearRegressionModel predicted:       7\n",
            "DecisionTreeClassifierModel predicted: 5\n",
            "RandomForestRegressorModel predicted:  5\n"
          ],
          "name": "stdout"
        }
      ]
    },
    {
      "cell_type": "code",
      "metadata": {
        "id": "F4ABh-r9sZE7",
        "colab_type": "code",
        "colab": {}
      },
      "source": [
        "#  Define the function to plot Models\n",
        "import matplotlib.pyplot as plt\n",
        "\n",
        "def plt_ctr_from_to_position(models, features, from_pos, to_pos, data):\n",
        "    for model in models:\n",
        "        predictions_x = []\n",
        "        predictions_y = []\n",
        "        positions = range(from_pos, to_pos)\n",
        "        for pos in positions:\n",
        "            df_to_predict = pd.DataFrame(data = sample, index=[0], columns=features)\n",
        "            predictions_x.append(pos)\n",
        "            predictions_y.append(model.predict(df_to_predict)[0])\n",
        "        predictions_x, predictions_y\n",
        "        plt.plot(predictions_x, predictions_y)"
      ],
      "execution_count": 0,
      "outputs": []
    },
    {
      "cell_type": "code",
      "metadata": {
        "id": "r3Vy7w44s3s7",
        "colab_type": "code",
        "outputId": "70d12cd2-18e3-4252-f8a7-d1c1b51a8702",
        "colab": {
          "base_uri": "https://localhost:8080/",
          "height": 265
        }
      },
      "source": [
        "#Plotting the graph\n",
        "plt_ctr_from_to_position([LinearRegressionModel, DecisionTreeClassifierModel, RandomForestRegressorModel], features,1 ,50 , data)"
      ],
      "execution_count": 151,
      "outputs": [
        {
          "output_type": "display_data",
          "data": {
            "image/png": "[encoded data removed]",
            "text/plain": [
              "<Figure size 432x288 with 1 Axes>"
            ]
          },
          "metadata": {
            "tags": [],
            "needs_background": "light"
          }
        }
      ]
    },
    {
      "cell_type": "code",
      "metadata": {
        "id": "gwAHRW7h_0jb",
        "colab_type": "code",
        "colab": {}
      },
      "source": [
        "#Define the function such that you like to filter the data. \n",
        "def analyzePositionSpecs(min_p,max_p):\n",
        "    jk = rawdata.loc[(rawdata['Position'] >= min_p) & (rawdata['Position'] <= max_p)]\n",
        "    return jk"
      ],
      "execution_count": 0,
      "outputs": []
    },
    {
      "cell_type": "code",
      "metadata": {
        "id": "hrGlODb7jTHy",
        "colab_type": "code",
        "colab": {}
      },
      "source": [
        "#Give desired filter positions to function.\n",
        "jk = analyzePositionSpecs(5,15)\n",
        "\n",
        "# Creates the total volume for 'Search Volume' column\n",
        "def Volume(x):\n",
        "    total = x['Search Volume'].sum()\n",
        "    return total\n",
        "netvolume = Volume(jk)\n",
        "\n",
        "# Converting search volume into a percentage\n",
        "svp = (jk['Search Volume']/netvolume)*100\n"
      ],
      "execution_count": 0,
      "outputs": []
    },
    {
      "cell_type": "code",
      "metadata": {
        "id": "THCrxRjPjsRF",
        "colab_type": "code",
        "colab": {}
      },
      "source": [
        "# Make booleans for filter parameters, change if statement for choice parameters\n",
        "newData = []\n",
        "for value in jk['Search Volume']:\n",
        "    if (value/netvolume)*100 >= 1:\n",
        "        newData.append(True)\n",
        "    else:\n",
        "        newData.append(False)\n",
        "  "
      ],
      "execution_count": 0,
      "outputs": []
    },
    {
      "cell_type": "code",
      "metadata": {
        "id": "ckw8gRgwjyhy",
        "colab_type": "code",
        "colab": {}
      },
      "source": [
        "# add new columns variables to data frame      \n",
        "jk.loc[:,'Volume Ratio'] = svp\n",
        "jk.loc[:,'Result']= newData"
      ],
      "execution_count": 0,
      "outputs": []
    },
    {
      "cell_type": "code",
      "metadata": {
        "id": "j-hu3fiQkKnK",
        "colab_type": "code",
        "outputId": "7ac8518a-fc83-4852-f92a-83665ff35dbf",
        "colab": {
          "base_uri": "https://localhost:8080/",
          "height": 725
        }
      },
      "source": [
        "# create final dataframe\n",
        "finalresult = jk.loc[jk['Result'] == True]\n",
        "finalresult\n"
      ],
      "execution_count": 108,
      "outputs": [
        {
          "output_type": "execute_result",
          "data": {
            "text/html": [
              "<div>\n",
              "<style scoped>\n",
              "    .dataframe tbody tr th:only-of-type {\n",
              "        vertical-align: middle;\n",
              "    }\n",
              "\n",
              "    .dataframe tbody tr th {\n",
              "        vertical-align: top;\n",
              "    }\n",
              "\n",
              "    .dataframe thead th {\n",
              "        text-align: right;\n",
              "    }\n",
              "</style>\n",
              "<table border=\"1\" class=\"dataframe\">\n",
              "  <thead>\n",
              "    <tr style=\"text-align: right;\">\n",
              "      <th></th>\n",
              "      <th>Keyword</th>\n",
              "      <th>Position</th>\n",
              "      <th>Previous position</th>\n",
              "      <th>Search Volume</th>\n",
              "      <th>Keyword Difficulty</th>\n",
              "      <th>CPC</th>\n",
              "      <th>URL</th>\n",
              "      <th>Traffic</th>\n",
              "      <th>Traffic (%)</th>\n",
              "      <th>Traffic Cost</th>\n",
              "      <th>Competition</th>\n",
              "      <th>Number of Results</th>\n",
              "      <th>Trends</th>\n",
              "      <th>Timestamp</th>\n",
              "      <th>Volume Ratio</th>\n",
              "      <th>Result</th>\n",
              "      <th>Rank</th>\n",
              "    </tr>\n",
              "  </thead>\n",
              "  <tbody>\n",
              "    <tr>\n",
              "      <th>2</th>\n",
              "      <td>shower base</td>\n",
              "      <td>5</td>\n",
              "      <td>5</td>\n",
              "      <td>22200</td>\n",
              "      <td>76.92</td>\n",
              "      <td>0.93</td>\n",
              "      <td>https://bestbath.com/products/showers/pans/</td>\n",
              "      <td>1110</td>\n",
              "      <td>5.22</td>\n",
              "      <td>1032</td>\n",
              "      <td>1.0</td>\n",
              "      <td>469000000</td>\n",
              "      <td>[82,67,67,67,82,67,82,67,67,100,82,82]</td>\n",
              "      <td>1562805830</td>\n",
              "      <td>9.773708</td>\n",
              "      <td>True</td>\n",
              "      <td>NaN</td>\n",
              "    </tr>\n",
              "    <tr>\n",
              "      <th>4</th>\n",
              "      <td>tub shower combo</td>\n",
              "      <td>5</td>\n",
              "      <td>5</td>\n",
              "      <td>14800</td>\n",
              "      <td>84.20</td>\n",
              "      <td>0.89</td>\n",
              "      <td>https://bestbath.com/products/tubs/shower-tub-...</td>\n",
              "      <td>740</td>\n",
              "      <td>3.48</td>\n",
              "      <td>658</td>\n",
              "      <td>1.0</td>\n",
              "      <td>56300000</td>\n",
              "      <td>[67,55,67,82,82,82,82,82,67,100,100,100]</td>\n",
              "      <td>1562805217</td>\n",
              "      <td>6.515805</td>\n",
              "      <td>True</td>\n",
              "      <td>NaN</td>\n",
              "    </tr>\n",
              "    <tr>\n",
              "      <th>6</th>\n",
              "      <td>tub surround</td>\n",
              "      <td>7</td>\n",
              "      <td>7</td>\n",
              "      <td>12100</td>\n",
              "      <td>83.42</td>\n",
              "      <td>0.99</td>\n",
              "      <td>https://bestbath.com/products/tub-surrounds/</td>\n",
              "      <td>484</td>\n",
              "      <td>2.28</td>\n",
              "      <td>479</td>\n",
              "      <td>1.0</td>\n",
              "      <td>45900000</td>\n",
              "      <td>[82,67,67,67,67,67,67,67,67,100,82,100]</td>\n",
              "      <td>1562806450</td>\n",
              "      <td>5.327111</td>\n",
              "      <td>True</td>\n",
              "      <td>NaN</td>\n",
              "    </tr>\n",
              "    <tr>\n",
              "      <th>8</th>\n",
              "      <td>shower tub</td>\n",
              "      <td>6</td>\n",
              "      <td>6</td>\n",
              "      <td>8100</td>\n",
              "      <td>77.51</td>\n",
              "      <td>1.04</td>\n",
              "      <td>https://bestbath.com/products/tubs/shower-tub-...</td>\n",
              "      <td>405</td>\n",
              "      <td>1.90</td>\n",
              "      <td>421</td>\n",
              "      <td>1.0</td>\n",
              "      <td>369000000</td>\n",
              "      <td>[82,82,55,67,67,67,67,67,67,100,82,82]</td>\n",
              "      <td>1562805487</td>\n",
              "      <td>3.566083</td>\n",
              "      <td>True</td>\n",
              "      <td>NaN</td>\n",
              "    </tr>\n",
              "    <tr>\n",
              "      <th>9</th>\n",
              "      <td>bathtub shower combo</td>\n",
              "      <td>5</td>\n",
              "      <td>5</td>\n",
              "      <td>8100</td>\n",
              "      <td>85.40</td>\n",
              "      <td>0.81</td>\n",
              "      <td>https://bestbath.com/products/tubs/shower-tub-...</td>\n",
              "      <td>405</td>\n",
              "      <td>1.90</td>\n",
              "      <td>328</td>\n",
              "      <td>1.0</td>\n",
              "      <td>72500000</td>\n",
              "      <td>[100,82,82,82,82,82,67,67,67,100,82,100]</td>\n",
              "      <td>1562804244</td>\n",
              "      <td>3.566083</td>\n",
              "      <td>True</td>\n",
              "      <td>NaN</td>\n",
              "    </tr>\n",
              "    <tr>\n",
              "      <th>11</th>\n",
              "      <td>bathtub surround</td>\n",
              "      <td>7</td>\n",
              "      <td>7</td>\n",
              "      <td>6600</td>\n",
              "      <td>84.19</td>\n",
              "      <td>1.19</td>\n",
              "      <td>https://bestbath.com/products/tub-surrounds/</td>\n",
              "      <td>264</td>\n",
              "      <td>1.24</td>\n",
              "      <td>314</td>\n",
              "      <td>1.0</td>\n",
              "      <td>41800000</td>\n",
              "      <td>[81,67,54,67,67,67,67,67,67,100,100,100]</td>\n",
              "      <td>1562799078</td>\n",
              "      <td>2.905697</td>\n",
              "      <td>True</td>\n",
              "      <td>NaN</td>\n",
              "    </tr>\n",
              "    <tr>\n",
              "      <th>21</th>\n",
              "      <td>bathtub shower</td>\n",
              "      <td>8</td>\n",
              "      <td>8</td>\n",
              "      <td>4400</td>\n",
              "      <td>84.60</td>\n",
              "      <td>1.10</td>\n",
              "      <td>https://bestbath.com/products/tubs/shower-tub-...</td>\n",
              "      <td>132</td>\n",
              "      <td>0.62</td>\n",
              "      <td>145</td>\n",
              "      <td>1.0</td>\n",
              "      <td>519000000</td>\n",
              "      <td>[81,67,67,81,81,81,81,81,81,100,100,100]</td>\n",
              "      <td>1562805823</td>\n",
              "      <td>1.937131</td>\n",
              "      <td>True</td>\n",
              "      <td>NaN</td>\n",
              "    </tr>\n",
              "    <tr>\n",
              "      <th>22</th>\n",
              "      <td>shower base sizes</td>\n",
              "      <td>5</td>\n",
              "      <td>5</td>\n",
              "      <td>2400</td>\n",
              "      <td>76.43</td>\n",
              "      <td>0.92</td>\n",
              "      <td>https://bestbath.com/products/showers/pans/</td>\n",
              "      <td>120</td>\n",
              "      <td>0.56</td>\n",
              "      <td>110</td>\n",
              "      <td>1.0</td>\n",
              "      <td>194000000</td>\n",
              "      <td>[81,36,28,36,81,81,36,52,67,100,100,67]</td>\n",
              "      <td>1560962654</td>\n",
              "      <td>1.056617</td>\n",
              "      <td>True</td>\n",
              "      <td>NaN</td>\n",
              "    </tr>\n",
              "    <tr>\n",
              "      <th>23</th>\n",
              "      <td>tub and shower combo</td>\n",
              "      <td>7</td>\n",
              "      <td>7</td>\n",
              "      <td>2900</td>\n",
              "      <td>86.03</td>\n",
              "      <td>0.72</td>\n",
              "      <td>https://bestbath.com/products/tubs/shower-tub-...</td>\n",
              "      <td>116</td>\n",
              "      <td>0.54</td>\n",
              "      <td>83</td>\n",
              "      <td>1.0</td>\n",
              "      <td>175000000</td>\n",
              "      <td>[55,66,55,55,66,66,66,66,55,100,82,82]</td>\n",
              "      <td>1562805178</td>\n",
              "      <td>1.276746</td>\n",
              "      <td>True</td>\n",
              "      <td>NaN</td>\n",
              "    </tr>\n",
              "    <tr>\n",
              "      <th>25</th>\n",
              "      <td>garden tub</td>\n",
              "      <td>14</td>\n",
              "      <td>14</td>\n",
              "      <td>14800</td>\n",
              "      <td>83.70</td>\n",
              "      <td>0.69</td>\n",
              "      <td>https://bestbath.com/products/tubs/garden-tubs/</td>\n",
              "      <td>103</td>\n",
              "      <td>0.48</td>\n",
              "      <td>71</td>\n",
              "      <td>1.0</td>\n",
              "      <td>394000000</td>\n",
              "      <td>[100,82,82,82,82,67,82,67,82,100,100,100]</td>\n",
              "      <td>1562812371</td>\n",
              "      <td>6.515805</td>\n",
              "      <td>True</td>\n",
              "      <td>NaN</td>\n",
              "    </tr>\n",
              "    <tr>\n",
              "      <th>40</th>\n",
              "      <td>tub and shower</td>\n",
              "      <td>8</td>\n",
              "      <td>8</td>\n",
              "      <td>2400</td>\n",
              "      <td>80.86</td>\n",
              "      <td>0.87</td>\n",
              "      <td>https://bestbath.com/products/tubs/shower-tub-...</td>\n",
              "      <td>72</td>\n",
              "      <td>0.33</td>\n",
              "      <td>62</td>\n",
              "      <td>1.0</td>\n",
              "      <td>1270000000</td>\n",
              "      <td>[83,55,66,83,66,66,66,66,66,100,100,83]</td>\n",
              "      <td>1560959335</td>\n",
              "      <td>1.056617</td>\n",
              "      <td>True</td>\n",
              "      <td>NaN</td>\n",
              "    </tr>\n",
              "    <tr>\n",
              "      <th>139</th>\n",
              "      <td>custom shower pan</td>\n",
              "      <td>15</td>\n",
              "      <td>15</td>\n",
              "      <td>3600</td>\n",
              "      <td>59.63</td>\n",
              "      <td>1.17</td>\n",
              "      <td>https://bestbath.com/types-shower-pans/</td>\n",
              "      <td>18</td>\n",
              "      <td>0.08</td>\n",
              "      <td>21</td>\n",
              "      <td>1.0</td>\n",
              "      <td>28500000</td>\n",
              "      <td>[54,44,44,54,54,54,54,54,67,100,81,81]</td>\n",
              "      <td>1562805730</td>\n",
              "      <td>1.584926</td>\n",
              "      <td>True</td>\n",
              "      <td>NaN</td>\n",
              "    </tr>\n",
              "  </tbody>\n",
              "</table>\n",
              "</div>"
            ],
            "text/plain": [
              "                  Keyword  Position  ...  Result  Rank\n",
              "2             shower base         5  ...    True   NaN\n",
              "4        tub shower combo         5  ...    True   NaN\n",
              "6            tub surround         7  ...    True   NaN\n",
              "8              shower tub         6  ...    True   NaN\n",
              "9    bathtub shower combo         5  ...    True   NaN\n",
              "11       bathtub surround         7  ...    True   NaN\n",
              "21         bathtub shower         8  ...    True   NaN\n",
              "22      shower base sizes         5  ...    True   NaN\n",
              "23   tub and shower combo         7  ...    True   NaN\n",
              "25             garden tub        14  ...    True   NaN\n",
              "40         tub and shower         8  ...    True   NaN\n",
              "139     custom shower pan        15  ...    True   NaN\n",
              "\n",
              "[12 rows x 17 columns]"
            ]
          },
          "metadata": {
            "tags": []
          },
          "execution_count": 108
        }
      ]
    }
  ]
}